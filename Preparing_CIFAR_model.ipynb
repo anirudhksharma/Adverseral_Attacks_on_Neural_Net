{
 "cells": [
  {
   "cell_type": "code",
   "execution_count": 71,
   "id": "c80e69dd-9261-41f4-936e-ab1e8e0bced1",
   "metadata": {},
   "outputs": [],
   "source": [
    "import torchvision\n",
    "from torchvision import datasets\n",
    "\n",
    "train_data = datasets.CIFAR10(\n",
    "    root = 'CIFAR/',\n",
    "    train = True,\n",
    "    download = True,\n",
    "    transform = torchvision.transforms.ToTensor()\n",
    ")\n",
    "\n",
    "test_data = datasets.CIFAR10(\n",
    "    root = 'CIFAR/',\n",
    "    train = False,\n",
    "    download = True,\n",
    "    transform = torchvision.transforms.ToTensor()\n",
    ")\n"
   ]
  },
  {
   "cell_type": "code",
   "execution_count": 72,
   "id": "2c7e3cd6-6542-4ec0-b991-36c635042096",
   "metadata": {},
   "outputs": [
    {
     "data": {
      "text/plain": [
       "Text(0.5, 1.0, 'horse')"
      ]
     },
     "execution_count": 72,
     "metadata": {},
     "output_type": "execute_result"
    },
    {
     "data": {
      "image/png": "[encoded data removed]",
      "text/plain": [
       "<Figure size 640x480 with 1 Axes>"
      ]
     },
     "metadata": {},
     "output_type": "display_data"
    }
   ],
   "source": [
    "import matplotlib.pyplot as plt\n",
    "import torch\n",
    "random_image = torch.randint(0, len(train_data), size = [1]).item()\n",
    "image, label = train_data[random_image]\n",
    "class_names = train_data.classes\n",
    "image = image.permute(1, 2, 0)\n",
    "plt.imshow(image)\n",
    "plt.title(class_names[label])"
   ]
  },
  {
   "cell_type": "code",
   "execution_count": 73,
   "id": "094bfd0a-22c1-4858-b81e-dc8f9e7d8690",
   "metadata": {},
   "outputs": [
    {
     "data": {
      "text/plain": [
       "{'airplane': 0,\n",
       " 'automobile': 1,\n",
       " 'bird': 2,\n",
       " 'cat': 3,\n",
       " 'deer': 4,\n",
       " 'dog': 5,\n",
       " 'frog': 6,\n",
       " 'horse': 7,\n",
       " 'ship': 8,\n",
       " 'truck': 9}"
      ]
     },
     "execution_count": 73,
     "metadata": {},
     "output_type": "execute_result"
    }
   ],
   "source": [
    "train_data.class_to_idx"
   ]
  },
  {
   "cell_type": "markdown",
   "id": "4f352370-433e-47a1-8a02-36e676e711b1",
   "metadata": {},
   "source": [
    "# Prepare Dataloader"
   ]
  },
  {
   "cell_type": "code",
   "execution_count": 75,
   "id": "04c7afed-5bf4-4dea-89ea-eba69843483c",
   "metadata": {},
   "outputs": [
    {
     "data": {
      "text/plain": [
       "(782, 157)"
      ]
     },
     "execution_count": 75,
     "metadata": {},
     "output_type": "execute_result"
    }
   ],
   "source": [
    "from torch.utils.data import DataLoader\n",
    "\n",
    "BATCH_SIZE = 64\n",
    "\n",
    "train_dataloader = DataLoader(dataset = train_data,\n",
    "                              batch_size = BATCH_SIZE,\n",
    "                              shuffle = True)\n",
    "test_dataloader = DataLoader(dataset = test_data,\n",
    "                             batch_size = BATCH_SIZE,\n",
    "                             shuffle =False)\n",
    "len(train_dataloader), len(test_dataloader)"
   ]
  },
  {
   "cell_type": "code",
   "execution_count": 79,
   "id": "3fbd669a-ce2e-4457-aa28-d0713d76b9e9",
   "metadata": {},
   "outputs": [
    {
     "data": {
      "text/plain": [
       "(torch.Size([64, 3, 32, 32]), torch.Size([64]))"
      ]
     },
     "execution_count": 79,
     "metadata": {},
     "output_type": "execute_result"
    }
   ],
   "source": [
    "train_feature_batch, train_label_batch = next(iter(train_dataloader))\n",
    "train_feature_batch.shape, train_label_batch.shape"
   ]
  },
  {
   "cell_type": "code",
   "execution_count": 81,
   "id": "e2c9509b-d772-4bb0-8ec8-b2ada390335e",
   "metadata": {},
   "outputs": [
    {
     "data": {
      "text/plain": [
       "(-0.5, 31.5, 31.5, -0.5)"
      ]
     },
     "execution_count": 81,
     "metadata": {},
     "output_type": "execute_result"
    },
    {
     "data": {
      "image/png": "[encoded data removed]",
      "text/plain": [
       "<Figure size 640x480 with 1 Axes>"
      ]
     },
     "metadata": {},
     "output_type": "display_data"
    }
   ],
   "source": [
    "random_batch_image_idx = torch.randint(0, len(train_feature_batch), size = [1]).item()\n",
    "image, label = train_feature_batch[random_batch_image_idx], train_label_batch[random_batch_image_idx]\n",
    "image = image.permute(1, 2, 0)\n",
    "plt.imshow(image)\n",
    "plt.title(class_names[label])\n",
    "plt.axis(False)"
   ]
  },
  {
   "cell_type": "markdown",
   "id": "6646795b-323e-4e61-9d82-61ca1104cd59",
   "metadata": {},
   "source": [
    "# Building Model"
   ]
  },
  {
   "cell_type": "code",
   "execution_count": 860,
   "id": "1829b187-c77a-4328-9e3e-78c3dd9d2e7b",
   "metadata": {},
   "outputs": [],
   "source": [
    "from torch import nn\n",
    "class CIFARMODEL(nn.Module):\n",
    "    def __init__(self, input_features: int, output_features: int, hidden_features: int):\n",
    "        super().__init__()\n",
    "        self.conv_block_1 = nn.Sequential(\n",
    "            nn.Conv2d(in_channels = input_features,\n",
    "                      out_channels = hidden_features,\n",
    "                      kernel_size = 3,\n",
    "                      stride = 1,\n",
    "                      padding = 1),\n",
    "            nn.BatchNorm2d(hidden_features),\n",
    "            nn.ReLU(),\n",
    "            nn.Conv2d(in_channels = hidden_features,\n",
    "                      out_channels = hidden_features,\n",
    "                      kernel_size = 3,\n",
    "                      stride = 1,\n",
    "                      padding = 1),\n",
    "            nn.BatchNorm2d(hidden_features),\n",
    "            nn.ReLU(),\n",
    "            nn.MaxPool2d(kernel_size = 2)\n",
    "        )\n",
    "        self.conv_block_2 = nn.Sequential(\n",
    "            nn.Conv2d(in_channels = hidden_features,\n",
    "                      out_channels = hidden_features,\n",
    "                      kernel_size = 3,\n",
    "                      stride = 1,\n",
    "                      padding = 1),\n",
    "            nn.BatchNorm2d(hidden_features),\n",
    "            nn.ReLU(),\n",
    "            nn.MaxPool2d(kernel_size = 2),\n",
    "            nn.Conv2d(in_channels = hidden_features,\n",
    "                      out_channels = hidden_features,\n",
    "                      kernel_size = 3,\n",
    "                      stride = 1,\n",
    "                      padding = 1),\n",
    "            nn.BatchNorm2d(hidden_features),\n",
    "            nn.ReLU(),\n",
    "            nn.MaxPool2d(kernel_size = 2)\n",
    "        )\n",
    "        self.classifier = nn.Sequential(\n",
    "            nn.Flatten(),\n",
    "            nn.Linear(in_features = hidden_features * 4 * 4,\n",
    "                      out_features = hidden_features),\n",
    "            nn.Dropout(0.4),\n",
    "            nn.Linear(in_features = hidden_features,\n",
    "                      out_features = output_features),\n",
    "\n",
    "        )\n",
    "\n",
    "    def forward(self, x):\n",
    "        x = self.conv_block_1(x)\n",
    "        #print(f\"Output shape after passing Conv block 1: {x.shape}\")\n",
    "        x = self.conv_block_2(x)\n",
    "        #print(f\"Output shape after passing Conv block 2: {x.shape}\")\n",
    "        x = self.classifier(x)\n",
    "        #print(f\"Output shape after passing Classifier: {x.shape}\")\n",
    "        return x\n",
    "                      \n",
    "        "
   ]
  },
  {
   "cell_type": "code",
   "execution_count": 863,
   "id": "94a13dbb-974d-455d-93d5-bc9d3bc06345",
   "metadata": {},
   "outputs": [
    {
     "data": {
      "text/plain": [
       "CIFARMODEL(\n",
       "  (conv_block_1): Sequential(\n",
       "    (0): Conv2d(3, 32, kernel_size=(3, 3), stride=(1, 1), padding=(1, 1))\n",
       "    (1): BatchNorm2d(32, eps=1e-05, momentum=0.1, affine=True, track_running_stats=True)\n",
       "    (2): ReLU()\n",
       "    (3): Conv2d(32, 32, kernel_size=(3, 3), stride=(1, 1), padding=(1, 1))\n",
       "    (4): BatchNorm2d(32, eps=1e-05, momentum=0.1, affine=True, track_running_stats=True)\n",
       "    (5): ReLU()\n",
       "    (6): MaxPool2d(kernel_size=2, stride=2, padding=0, dilation=1, ceil_mode=False)\n",
       "  )\n",
       "  (conv_block_2): Sequential(\n",
       "    (0): Conv2d(32, 32, kernel_size=(3, 3), stride=(1, 1), padding=(1, 1))\n",
       "    (1): BatchNorm2d(32, eps=1e-05, momentum=0.1, affine=True, track_running_stats=True)\n",
       "    (2): ReLU()\n",
       "    (3): MaxPool2d(kernel_size=2, stride=2, padding=0, dilation=1, ceil_mode=False)\n",
       "    (4): Conv2d(32, 32, kernel_size=(3, 3), stride=(1, 1), padding=(1, 1))\n",
       "    (5): BatchNorm2d(32, eps=1e-05, momentum=0.1, affine=True, track_running_stats=True)\n",
       "    (6): ReLU()\n",
       "    (7): MaxPool2d(kernel_size=2, stride=2, padding=0, dilation=1, ceil_mode=False)\n",
       "  )\n",
       "  (classifier): Sequential(\n",
       "    (0): Flatten(start_dim=1, end_dim=-1)\n",
       "    (1): Linear(in_features=512, out_features=32, bias=True)\n",
       "    (2): Dropout(p=0.4, inplace=False)\n",
       "    (3): Linear(in_features=32, out_features=10, bias=True)\n",
       "  )\n",
       ")"
      ]
     },
     "execution_count": 863,
     "metadata": {},
     "output_type": "execute_result"
    }
   ],
   "source": [
    "model"
   ]
  },
  {
   "cell_type": "code",
   "execution_count": 135,
   "id": "ab1ade6f-b796-4be6-8a96-24eb34be191b",
   "metadata": {},
   "outputs": [
    {
     "data": {
      "text/plain": [
       "'cuda'"
      ]
     },
     "execution_count": 135,
     "metadata": {},
     "output_type": "execute_result"
    }
   ],
   "source": [
    "device = 'cuda' if torch.cuda.is_available() else 'cpu'\n",
    "device"
   ]
  },
  {
   "cell_type": "code",
   "execution_count": 137,
   "id": "76170cb1-964d-400e-a3d4-072ba763f1c8",
   "metadata": {},
   "outputs": [],
   "source": [
    "model = CIFARMODEL(input_features = 3,\n",
    "                   hidden_features = 32,\n",
    "                   output_features = len(class_names)).to(device)"
   ]
  },
  {
   "cell_type": "code",
   "execution_count": 141,
   "id": "01aee662-0e87-493b-83a6-9c2e78cd5abe",
   "metadata": {},
   "outputs": [],
   "source": [
    "image = train_feature_batch[0].to(device)\n"
   ]
  },
  {
   "cell_type": "code",
   "execution_count": 143,
   "id": "5254dc5c-e434-4f12-9669-840de8527332",
   "metadata": {},
   "outputs": [
    {
     "data": {
      "text/plain": [
       "torch.Size([3, 32, 32])"
      ]
     },
     "execution_count": 143,
     "metadata": {},
     "output_type": "execute_result"
    }
   ],
   "source": [
    "image.shape"
   ]
  },
  {
   "cell_type": "code",
   "execution_count": 145,
   "id": "107abf67-d0ff-4895-9a81-592e5e0878ad",
   "metadata": {},
   "outputs": [
    {
     "data": {
      "text/plain": [
       "16.0"
      ]
     },
     "execution_count": 145,
     "metadata": {},
     "output_type": "execute_result"
    }
   ],
   "source": [
    "512/ 32"
   ]
  },
  {
   "cell_type": "code",
   "execution_count": 147,
   "id": "be305872-66e3-4c60-989f-8c48aa849d6b",
   "metadata": {},
   "outputs": [],
   "source": [
    "dummy_y = model(image.unsqueeze(0))"
   ]
  },
  {
   "cell_type": "code",
   "execution_count": 149,
   "id": "f045387e-d0e5-4760-a0ad-c7e8698d1c8b",
   "metadata": {},
   "outputs": [
    {
     "data": {
      "text/plain": [
       "torch.Size([1, 10])"
      ]
     },
     "execution_count": 149,
     "metadata": {},
     "output_type": "execute_result"
    }
   ],
   "source": [
    "dummy_y = torch.sigmoid(dummy_y)\n",
    "dummy_y.shape"
   ]
  },
  {
   "cell_type": "code",
   "execution_count": 151,
   "id": "21756d0f-ddb6-4345-a7f7-dbdea474c537",
   "metadata": {},
   "outputs": [],
   "source": [
    "label_y = torch.argmax(dummy_y)"
   ]
  },
  {
   "cell_type": "code",
   "execution_count": 153,
   "id": "571b0846-2488-41bb-873e-77b21216cd30",
   "metadata": {},
   "outputs": [
    {
     "data": {
      "text/plain": [
       "tensor(0, device='cuda:0')"
      ]
     },
     "execution_count": 153,
     "metadata": {},
     "output_type": "execute_result"
    }
   ],
   "source": [
    "label_y"
   ]
  },
  {
   "cell_type": "markdown",
   "id": "993286d2-caae-4f1d-b9fe-fdcbbb14d545",
   "metadata": {},
   "source": [
    "# Loss function and Optimizer"
   ]
  },
  {
   "cell_type": "code",
   "execution_count": 168,
   "id": "52f74fcd-feba-426e-9c28-556d55fcd33d",
   "metadata": {},
   "outputs": [],
   "source": [
    "# Loss\n",
    "loss_fn = nn.CrossEntropyLoss()\n",
    "optimizer = torch.optim.SGD(params = model.parameters(),\n",
    "                            lr = 0.01)"
   ]
  },
  {
   "cell_type": "code",
   "execution_count": 113,
   "id": "3ace49f2-bd6c-4148-a7dc-a42d7c2c092a",
   "metadata": {},
   "outputs": [],
   "source": [
    "from timeit import default_timer as timer\n",
    "def print_time(start: float,\n",
    "               end: float,\n",
    "               device: torch.device = None):\n",
    "    total_time = end - start\n",
    "    print(f\"Total time on {device}: {total_time: .3f} seconds\")\n",
    "    return total_time"
   ]
  },
  {
   "cell_type": "code",
   "execution_count": 115,
   "id": "b964f809-3e7b-4c12-ab93-583e5439a188",
   "metadata": {},
   "outputs": [
    {
     "name": "stdout",
     "output_type": "stream",
     "text": [
      "Total time on cuda:  0.000 seconds\n"
     ]
    },
    {
     "data": {
      "text/plain": [
       "1.7600017599761486e-05"
      ]
     },
     "execution_count": 115,
     "metadata": {},
     "output_type": "execute_result"
    }
   ],
   "source": [
    "start_time = timer()\n",
    "\n",
    "end_time = timer()\n",
    "print_time(start = start_time, end = end_time, device = 'cuda')"
   ]
  },
  {
   "cell_type": "code",
   "execution_count": 117,
   "id": "8defd68a-d2ae-472f-a7eb-d9088bfd57f3",
   "metadata": {},
   "outputs": [],
   "source": [
    "def accuracy_fn(y_true, y_pred):\n",
    "    correct = torch.eq(y_true, y_pred).sum().item()\n",
    "    acc = (correct / len(y_pred)) * 100\n",
    "    return acc"
   ]
  },
  {
   "cell_type": "markdown",
   "id": "39f145c8-a389-4adb-ba8a-ebb5ca86f737",
   "metadata": {},
   "source": [
    "# Training and Testing loop"
   ]
  },
  {
   "cell_type": "code",
   "execution_count": 170,
   "id": "bafc222f-7ac0-41f0-a2d4-b5a5c09136d6",
   "metadata": {},
   "outputs": [
    {
     "name": "stdout",
     "output_type": "stream",
     "text": [
      "Epochs: 1 / 5 \n",
      "----\n",
      "Looked at 0 / 50000 samples\n",
      "Looked at 25600 / 50000 samples\n",
      "Epoch: 1 | Train loss: 0.32471972703933716 | Train accuracy: 88.81873401534527 | Test loss: 0.685353696346283 | Test accuracy: 78.70222929936305\n",
      "\n",
      "Epochs: 2 / 5 \n",
      "----\n",
      "Looked at 0 / 50000 samples\n",
      "Looked at 25600 / 50000 samples\n",
      "Epoch: 2 | Train loss: 0.3215925693511963 | Train accuracy: 88.91464194373401 | Test loss: 0.6903479099273682 | Test accuracy: 78.35390127388536\n",
      "\n",
      "Epochs: 3 / 5 \n",
      "----\n",
      "Looked at 0 / 50000 samples\n",
      "Looked at 25600 / 50000 samples\n",
      "Epoch: 3 | Train loss: 0.3169815242290497 | Train accuracy: 89.01054987212277 | Test loss: 0.6950499415397644 | Test accuracy: 78.68232484076434\n",
      "\n",
      "Epochs: 4 / 5 \n",
      "----\n",
      "Looked at 0 / 50000 samples\n",
      "Looked at 25600 / 50000 samples\n",
      "Epoch: 4 | Train loss: 0.3163577616214752 | Train accuracy: 88.95060741687979 | Test loss: 0.7011992335319519 | Test accuracy: 78.47332802547771\n",
      "\n",
      "Epochs: 5 / 5 \n",
      "----\n",
      "Looked at 0 / 50000 samples\n",
      "Looked at 25600 / 50000 samples\n",
      "Epoch: 5 | Train loss: 0.31253889203071594 | Train accuracy: 89.3042679028133 | Test loss: 0.7036648988723755 | Test accuracy: 78.59275477707007\n",
      "\n",
      "Total time on None:  115.847 seconds\n"
     ]
    },
    {
     "data": {
      "text/plain": [
       "115.8468409999914"
      ]
     },
     "execution_count": 170,
     "metadata": {},
     "output_type": "execute_result"
    }
   ],
   "source": [
    "start_time = timer()\n",
    "\n",
    "EPOCHS = 5\n",
    "epoch_count = []\n",
    "loss_values = []\n",
    "test_loss_values = []\n",
    "acc_values = []\n",
    "test_acc_values = []\n",
    "for epoch in range(EPOCHS):\n",
    "    train_loss = 0\n",
    "    train_acc = 0\n",
    "\n",
    "    print(f\"Epochs: {epoch + 1} / {EPOCHS} \\n----\")\n",
    "    for batch, (X, y) in enumerate(train_dataloader):\n",
    "        y = y.to(device)\n",
    "        X = X.to(device)\n",
    "        # Training\n",
    "        model.train()\n",
    "\n",
    "        # Forward Pass\n",
    "        y_logits = model(X)\n",
    "        y_pred = torch.softmax(y_logits, dim = 1).argmax(dim = 1)\n",
    "        # Calculate loss\n",
    "        loss = loss_fn(y_logits, y)\n",
    "        train_loss += loss\n",
    "        train_acc += accuracy_fn(y_true = y,\n",
    "                                 y_pred = y_pred)\n",
    "\n",
    "        # Optimizer zero grad\n",
    "        optimizer.zero_grad()\n",
    "\n",
    "        # Loss backwards\n",
    "        loss.backward()\n",
    "\n",
    "        # Optimizer step\n",
    "        optimizer.step()\n",
    "\n",
    "        if batch % 400 == 0:\n",
    "            print(f\"Looked at {batch * len(X)} / {len(train_dataloader.dataset)} samples\")\n",
    "\n",
    "    train_loss /= len(train_dataloader)\n",
    "    train_acc /= len(train_dataloader)\n",
    "\n",
    "    # Testing\n",
    "    test_loss = 0\n",
    "    test_acc = 0\n",
    "    model.eval()\n",
    "    with torch.inference_mode():\n",
    "        for X_test, y_test in test_dataloader:\n",
    "                X_test = X_test.to(device)\n",
    "                y_test = y_test.to(device)\n",
    "                # Forward pass\n",
    "                test_logits = model(X_test)\n",
    "                test_pred = torch.softmax(test_logits, dim = 1).argmax(dim = 1)\n",
    "                # Test loss\n",
    "                test_loss += loss_fn(test_logits, \n",
    "                                     y_test)\n",
    "                test_acc += accuracy_fn(y_true = y_test,\n",
    "                                        y_pred = test_pred)\n",
    "\n",
    "        test_loss /= len(test_dataloader)\n",
    "        test_acc /= len(test_dataloader)\n",
    "\n",
    "    #Print out whats happening\n",
    "    epoch_count.append(epoch)\n",
    "    loss_values.append(train_loss)\n",
    "    test_loss_values.append(test_loss)\n",
    "    acc_values.append(train_acc)\n",
    "    test_acc_values.append(test_acc)\n",
    "    print(f\"Epoch: {epoch + 1} | Train loss: {train_loss} | Train accuracy: {train_acc} | Test loss: {test_loss} | Test accuracy: {test_acc}\\n\")\n",
    "\n",
    "end_time = timer()\n",
    "print_time(start = start_time,\n",
    "           end = end_time)"
   ]
  },
  {
   "cell_type": "code",
   "execution_count": 240,
   "id": "d6c813f2-1dbb-4a31-a716-af25931c2f87",
   "metadata": {},
   "outputs": [
    {
     "name": "stdout",
     "output_type": "stream",
     "text": [
      "Train loss: 0.36166685819625854 | Train accuracy: 85.9375\n",
      "Test loss: 0.7036648988723755 | Test accuracy: 78.59275477707007\n"
     ]
    }
   ],
   "source": [
    "print(f\"Train loss: {train_loss} | Train accuracy: {train_acc}\")\n",
    "print(f\"Test loss: {test_loss} | Test accuracy: {test_acc}\")"
   ]
  },
  {
   "cell_type": "code",
   "execution_count": 242,
   "id": "086115cf-1328-4300-8bd9-3ea008a50e3b",
   "metadata": {},
   "outputs": [
    {
     "data": {
      "text/plain": [
       "tensor([7, 3, 8, 0, 8, 4, 7, 0, 3, 5, 3, 8, 6, 5, 1, 7], device='cuda:0')"
      ]
     },
     "execution_count": 242,
     "metadata": {},
     "output_type": "execute_result"
    }
   ],
   "source": [
    "test_pred.squeeze()"
   ]
  },
  {
   "cell_type": "code",
   "execution_count": 661,
   "id": "be84dba9-a335-49dd-a399-8e28f23fdcb5",
   "metadata": {},
   "outputs": [],
   "source": [
    "def make_predictions(model: torch.nn.Module,\n",
    "                     data: list,\n",
    "                     device: torch.device = device):\n",
    "    pred_probs = []\n",
    "    model.to(device)\n",
    "    model.eval()\n",
    "    with torch.inference_mode():\n",
    "        for sample in data:\n",
    "            # Prepare the sample\n",
    "            sample = torch.unsqueeze(sample, dim = 0).to(device)\n",
    "\n",
    "        # Forward pass\n",
    "            pred_logit = model(sample)\n",
    "\n",
    "        # Get pred probability\n",
    "            pred_prob = torch.softmax(pred_logit.squeeze(), dim = 0)\n",
    "\n",
    "        # Get pred_prob off the GPU for further calculations\n",
    "            pred_probs.append(pred_prob.cpu())\n",
    "\n",
    "    # Stack pred_probs to turn list into tensor\n",
    "    return torch.stack(pred_probs)"
   ]
  },
  {
   "cell_type": "code",
   "execution_count": 662,
   "id": "d7dad2c4-9368-4298-9cef-07f870b88c10",
   "metadata": {},
   "outputs": [
    {
     "data": {
      "text/plain": [
       "torch.Size([3, 32, 32])"
      ]
     },
     "execution_count": 662,
     "metadata": {},
     "output_type": "execute_result"
    }
   ],
   "source": [
    "import random\n",
    "test_samples = []\n",
    "test_labels = []\n",
    "for sample, label in random.sample(list(test_data), k = 9):\n",
    "    test_samples.append(sample)\n",
    "    test_labels.append(label)\n",
    "    #View the firs sample shape\n",
    "test_samples[0].shape"
   ]
  },
  {
   "cell_type": "code",
   "execution_count": 663,
   "id": "4f4943e9-f140-4f23-9d90-266afa9e6a17",
   "metadata": {},
   "outputs": [
    {
     "data": {
      "text/plain": [
       "Text(0.5, 1.0, 'truck')"
      ]
     },
     "execution_count": 663,
     "metadata": {},
     "output_type": "execute_result"
    },
    {
     "data": {
      "image/png": "[encoded data removed]",
      "text/plain": [
       "<Figure size 640x480 with 1 Axes>"
      ]
     },
     "metadata": {},
     "output_type": "display_data"
    }
   ],
   "source": [
    "plt.imshow(test_samples[0].T.squeeze())\n",
    "plt.title(class_names[test_labels[0]])"
   ]
  },
  {
   "cell_type": "code",
   "execution_count": 664,
   "id": "bf078dd1-4813-4e04-a8db-930b711b46f8",
   "metadata": {},
   "outputs": [
    {
     "data": {
      "text/plain": [
       "tensor([[0.1012, 0.1002, 0.0752, 0.0792, 0.0542, 0.0743, 0.0444, 0.1267, 0.0764,\n",
       "         0.2683],\n",
       "        [0.1077, 0.0431, 0.1428, 0.1020, 0.1206, 0.0914, 0.1000, 0.1629, 0.0432,\n",
       "         0.0864]])"
      ]
     },
     "execution_count": 664,
     "metadata": {},
     "output_type": "execute_result"
    }
   ],
   "source": [
    "# Make predictions\n",
    "pred_probs = make_predictions(model = model,\n",
    "                              data = test_samples)\n",
    "\n",
    "# View first two predictions\n",
    "pred_probs[:2]"
   ]
  },
  {
   "cell_type": "code",
   "execution_count": 666,
   "id": "853e3983-688a-43e5-ad46-19450857dfc5",
   "metadata": {},
   "outputs": [
    {
     "data": {
      "text/plain": [
       "tensor([9, 7, 7, 2, 7, 7, 0, 3, 6])"
      ]
     },
     "execution_count": 666,
     "metadata": {},
     "output_type": "execute_result"
    }
   ],
   "source": [
    "pred_classes = pred_probs.argmax(dim = 1)\n",
    "pred_classes"
   ]
  },
  {
   "cell_type": "code",
   "execution_count": 667,
   "id": "e91dd657-a05e-4cfe-b6e1-3e36de4de644",
   "metadata": {},
   "outputs": [
    {
     "data": {
      "text/plain": [
       "<function matplotlib.pyplot.show(close=None, block=None)>"
      ]
     },
     "execution_count": 667,
     "metadata": {},
     "output_type": "execute_result"
    },
    {
     "data": {
      "image/png": "[encoded data removed]",
      "text/plain": [
       "<Figure size 900x900 with 9 Axes>"
      ]
     },
     "metadata": {},
     "output_type": "display_data"
    }
   ],
   "source": [
    "#plot predictions\n",
    "plt.figure(figsize = (9, 9))\n",
    "nrows = 3\n",
    "ncols = 3\n",
    "for i, sample in enumerate(test_samples):\n",
    "    #create subplot\n",
    "    plt.subplot(nrows, ncols, i + 1)\n",
    "\n",
    "    # plot the target image\n",
    "    plt.imshow(sample.T.squeeze())\n",
    "\n",
    "    # Find pred labels \n",
    "    pred_label = class_names[pred_classes[i]]\n",
    "\n",
    "    # Get truth label\n",
    "    truth_label = class_names[test_labels[i]]\n",
    "\n",
    "    # Create title for the plot\n",
    "    title_text = f\"pred: {pred_label} | Truth: {truth_label}\"\n",
    "\n",
    "    if pred_label == truth_label:\n",
    "        plt.title(title_text, fontsize = 10, c = \"g\")\n",
    "    else:\n",
    "        plt.title(title_text, fontsize = 10, c = \"r\")\n",
    "\n",
    "    plt.axis(False)\n",
    "               \n",
    "plt.show"
   ]
  },
  {
   "cell_type": "markdown",
   "id": "ea776723-eb37-4b88-970c-651b4f3ec9af",
   "metadata": {},
   "source": [
    "# Save and load model"
   ]
  },
  {
   "cell_type": "code",
   "execution_count": 204,
   "id": "77c791fa-5e21-4b0f-80fb-76c804be5837",
   "metadata": {},
   "outputs": [
    {
     "name": "stdout",
     "output_type": "stream",
     "text": [
      "Saving model to: models\\CIFAR_CNN.pth\n"
     ]
    }
   ],
   "source": [
    "from pathlib import Path\n",
    "# Create model directory path\n",
    "MODEL_PATH = Path(\"models\")\n",
    "MODEL_PATH.mkdir(parents = True,\n",
    "                 exist_ok = True)\n",
    "MODEL_NAME = \"CIFAR_CNN.pth\"\n",
    "\n",
    "MODEL_SAVE_PATH = MODEL_PATH / MODEL_NAME\n",
    "\n",
    "print(f\"Saving model to: {MODEL_SAVE_PATH}\")\n",
    "torch.save(obj = model.state_dict(),\n",
    "           f = MODEL_SAVE_PATH\n",
    "          )"
   ]
  }
 ],
 "metadata": {
  "kernelspec": {
   "display_name": "Python [conda env:base] *",
   "language": "python",
   "name": "conda-base-py"
  },
  "language_info": {
   "codemirror_mode": {
    "name": "ipython",
    "version": 3
   },
   "file_extension": ".py",
   "mimetype": "text/x-python",
   "name": "python",
   "nbconvert_exporter": "python",
   "pygments_lexer": "ipython3",
   "version": "3.12.7"
  }
 },
 "nbformat": 4,
 "nbformat_minor": 5
}
